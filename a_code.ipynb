{
 "cells": [
  {
   "cell_type": "code",
   "execution_count": 57,
   "metadata": {},
   "outputs": [],
   "source": [
    "import pandas as pd\n",
    "import numpy as np\n",
    "import networkx as nx\n",
    "\n",
    "def haversine(lat1, lon1, lat2, lon2):\n",
    "    R = 6371  \n",
    "    phi1 = np.radians(lat1)\n",
    "    phi2 = np.radians(lat2)\n",
    "    delta_phi = np.radians(lat2 - lat1)\n",
    "    delta_lambda = np.radians(lon2 - lon1)\n",
    "    a = np.sin(delta_phi/2)**2 + np.cos(phi1) * np.cos(phi2) * np.sin(delta_lambda/2)**2\n",
    "    res = R * (2 * np.arctan2(np.sqrt(a), np.sqrt(1 - a)))\n",
    "    return np.round(res, 2)\n",
    "\n",
    "def nearest_neighbor_tsp(filename):\n",
    "    data = pd.read_csv(filename)\n",
    "\n",
    " \n",
    "    G = nx.Graph()\n",
    "\n",
    "    \n",
    "    for i, customer in data.iterrows():\n",
    "        G.add_node(customer['order_id'], pos=(customer['lat'], customer['lng']))\n",
    "\n",
    "\n",
    "    for i, customer1 in data.iterrows():\n",
    "        for j, customer2 in data.iterrows():\n",
    "            if i != j:\n",
    "                distance = haversine(customer1['lat'], customer1['lng'], customer2['lat'], customer2['lng'])\n",
    "                G.add_edge(customer1['order_id'], customer2['order_id'], weight=distance)\n",
    "\n",
    "   \n",
    "    depot_lat = data['depot_lat'].iloc[0]\n",
    "    depot_lng = data['depot_lng'].iloc[0]\n",
    "    G.add_node('Depot', pos=(depot_lat, depot_lng))\n",
    "\n",
    "   \n",
    "    for i, customer in data.iterrows():\n",
    "        G.add_edge('Depot', customer['order_id'], weight=haversine(depot_lat, depot_lng, customer['lat'], customer['lng']))\n",
    "\n",
    "    \n",
    "    num_customers = len(data)\n",
    "    visited = set()\n",
    "    route = ['Depot']\n",
    "    current_node = 'Depot'\n",
    "    total_distance = 0\n",
    "\n",
    "    while len(visited) < num_customers:\n",
    "        min_distance = float('inf')\n",
    "        next_node = None\n",
    "        for neighbor in G.neighbors(current_node):\n",
    "            if neighbor not in visited:\n",
    "                distance = G[current_node][neighbor]['weight']\n",
    "                if distance < min_distance:\n",
    "                    min_distance = distance\n",
    "                    next_node = neighbor\n",
    "        route.append(next_node)\n",
    "        total_distance += min_distance\n",
    "        visited.add(next_node)\n",
    "        current_node = next_node\n",
    "\n",
    "\n",
    "    total_distance += G[current_node]['Depot']['weight']\n",
    "    route.append('Depot')\n",
    "\n",
    "    \n",
    "    order_sequence = {}\n",
    "    for i, order_id in enumerate(route):\n",
    "        order_sequence[order_id] = i\n",
    "\n",
    "  \n",
    "    data['dlvr_seq_num'] = data['order_id'].map(order_sequence).fillna(2)\n",
    "\n",
    "   \n",
    "    data.to_csv(filename, index=False)\n",
    "\n",
    "    print(\"Shortest Route for\", filename, \":\", route)\n",
    "    print(\"Total Distance Travelled for\", filename, \":\", total_distance, \"kilometers\")\n",
    "\n",
    "  \n",
    "    print(\"Updated File for\", filename, \":\")\n",
    "    print(data)\n"
   ]
  },
  {
   "cell_type": "code",
   "execution_count": 59,
   "metadata": {},
   "outputs": [
    {
     "name": "stdout",
     "output_type": "stream",
     "text": [
      "Shortest Route for part_a_input_dataset_1.csv : ['Depot', 935442.0, 'Depot', 2119726.0, 1898768.0, 2349221.0, 'Depot']\n",
      "Total Distance Travelled for part_a_input_dataset_1.csv : 3.6100000000000003 kilometers\n",
      "Updated File for part_a_input_dataset_1.csv :\n",
      "   order_id        lng       lat  depot_lat  depot_lng  dlvr_seq_num\n",
      "0   2349221  126.55716  43.81811    43.8121   126.5669           5.0\n",
      "1   1720666  126.54845  43.82043    43.8121   126.5669           2.0\n",
      "2    935442  126.56893  43.81414    43.8121   126.5669           1.0\n",
      "3   2119726  126.57000  43.81954    43.8121   126.5669           3.0\n",
      "4   1898768  126.56574  43.82126    43.8121   126.5669           4.0\n"
     ]
    }
   ],
   "source": [
    "nearest_neighbor_tsp(\"part_a_input_dataset_1.csv\")\n"
   ]
  },
  {
   "cell_type": "code",
   "execution_count": 51,
   "metadata": {},
   "outputs": [
    {
     "name": "stdout",
     "output_type": "stream",
     "text": [
      "Shortest Route for part_a_input_dataset_2.csv : ['Depot', 935442.0, 'Depot', 2119726.0, 1163945.0, 1898768.0, 1967889.0, 2349221.0, 1720666.0, 98750.0, 2977295.0, 'Depot']\n",
      "Total Distance Travelled for part_a_input_dataset_2.csv : 9.139999999999999 kilometers\n",
      "Updated File for part_a_input_dataset_2.csv :\n",
      "   order_id        lng       lat  depot_lat  depot_lng  dlvr_seq_num\n",
      "0   2349221  126.55716  43.81811    43.8121   126.5669           7.0\n",
      "1   1720666  126.54845  43.82043    43.8121   126.5669           8.0\n",
      "2    935442  126.56893  43.81414    43.8121   126.5669           1.0\n",
      "3   2119726  126.57000  43.81954    43.8121   126.5669           3.0\n",
      "4   1898768  126.56574  43.82126    43.8121   126.5669           5.0\n",
      "5   2977295  126.53659  43.80667    43.8121   126.5669          10.0\n",
      "6     98750  126.55001  43.82377    43.8121   126.5669           9.0\n",
      "7   1967889  126.56403  43.82447    43.8121   126.5669           6.0\n",
      "8    512980  126.57915  43.82581    43.8121   126.5669           2.0\n",
      "9   1163945  126.56808  43.82254    43.8121   126.5669           4.0\n"
     ]
    }
   ],
   "source": [
    "nearest_neighbor_tsp(\"part_a_input_dataset_2.csv\")\n"
   ]
  },
  {
   "cell_type": "code",
   "execution_count": 52,
   "metadata": {},
   "outputs": [
    {
     "name": "stdout",
     "output_type": "stream",
     "text": [
      "Shortest Route for part_a_input_dataset_3.csv : ['Depot', 935442.0, 'Depot', 2119726.0, 1163945.0, 1898768.0, 1967889.0, 2349221.0, 4312189.0, 1720666.0, 98750.0, 689448.0, 2918628.0, 512980.0, 2752609.0, 2977295.0, 'Depot']\n",
      "Total Distance Travelled for part_a_input_dataset_3.csv : 14.22 kilometers\n",
      "Updated File for part_a_input_dataset_3.csv :\n",
      "    order_id        lng       lat  depot_lat  depot_lng  dlvr_seq_num\n",
      "0    2349221  126.55716  43.81811    43.8121   126.5669           7.0\n",
      "1    1720666  126.54845  43.82043    43.8121   126.5669           9.0\n",
      "2     935442  126.56893  43.81414    43.8121   126.5669           1.0\n",
      "3    2119726  126.57000  43.81954    43.8121   126.5669           3.0\n",
      "4    1898768  126.56574  43.82126    43.8121   126.5669           5.0\n",
      "5    2977295  126.53659  43.80667    43.8121   126.5669          15.0\n",
      "6      98750  126.55001  43.82377    43.8121   126.5669          10.0\n",
      "7    1967889  126.56403  43.82447    43.8121   126.5669           6.0\n",
      "8     512980  126.57915  43.82581    43.8121   126.5669          13.0\n",
      "9    1163945  126.56808  43.82254    43.8121   126.5669           4.0\n",
      "10   4312189  126.55094  43.81513    43.8121   126.5669           8.0\n",
      "11   2918628  126.57607  43.82599    43.8121   126.5669          12.0\n",
      "12   2752609  126.55480  43.80953    43.8121   126.5669          14.0\n",
      "13    689448  126.55272  43.82785    43.8121   126.5669          11.0\n",
      "14    619869  126.59201  43.77702    43.8121   126.5669           2.0\n"
     ]
    }
   ],
   "source": [
    "nearest_neighbor_tsp(\"part_a_input_dataset_3.csv\")\n"
   ]
  },
  {
   "cell_type": "code",
   "execution_count": 53,
   "metadata": {},
   "outputs": [
    {
     "name": "stdout",
     "output_type": "stream",
     "text": [
      "Shortest Route for part_a_input_dataset_4.csv : ['Depot', 935442.0, 'Depot', 323232.0, 2686188.0, 2752609.0, 4312189.0, 2349221.0, 3143754.0, 1898768.0, 1163945.0, 2119726.0, 1967889.0, 2918628.0, 512980.0, 66954.0, 689448.0, 98750.0, 1331947.0, 1720666.0, 2977295.0, 'Depot']\n",
      "Total Distance Travelled for part_a_input_dataset_4.csv : 16.870000000000005 kilometers\n",
      "Updated File for part_a_input_dataset_4.csv :\n",
      "    order_id        lng       lat  depot_lat  depot_lng  dlvr_seq_num\n",
      "0    2349221  126.55716  43.81811    43.8121   126.5669           7.0\n",
      "1    1720666  126.54845  43.82043    43.8121   126.5669          19.0\n",
      "2     935442  126.56893  43.81414    43.8121   126.5669           1.0\n",
      "3    2119726  126.57000  43.81954    43.8121   126.5669          11.0\n",
      "4    1898768  126.56574  43.82126    43.8121   126.5669           9.0\n",
      "5    2977295  126.53659  43.80667    43.8121   126.5669          20.0\n",
      "6      98750  126.55001  43.82377    43.8121   126.5669          17.0\n",
      "7    1967889  126.56403  43.82447    43.8121   126.5669          12.0\n",
      "8     512980  126.57915  43.82581    43.8121   126.5669          14.0\n",
      "9    1163945  126.56808  43.82254    43.8121   126.5669          10.0\n",
      "10   4312189  126.55094  43.81513    43.8121   126.5669           6.0\n",
      "11   2918628  126.57607  43.82599    43.8121   126.5669          13.0\n",
      "12   2752609  126.55480  43.80953    43.8121   126.5669           5.0\n",
      "13    689448  126.55272  43.82785    43.8121   126.5669          16.0\n",
      "14    619869  126.59201  43.77702    43.8121   126.5669           2.0\n",
      "15    323232  126.56633  43.80800    43.8121   126.5669           3.0\n",
      "16   3143754  126.55921  43.81791    43.8121   126.5669           8.0\n",
      "17   2686188  126.56021  43.80409    43.8121   126.5669           4.0\n",
      "18     66954  126.59199  43.82113    43.8121   126.5669          15.0\n",
      "19   1331947  126.54723  43.82336    43.8121   126.5669          18.0\n"
     ]
    }
   ],
   "source": [
    "nearest_neighbor_tsp(\"part_a_input_dataset_4.csv\")"
   ]
  },
  {
   "cell_type": "code",
   "execution_count": 54,
   "metadata": {},
   "outputs": [
    {
     "name": "stdout",
     "output_type": "stream",
     "text": [
      "Shortest Route for part_a_input_dataset_5.csv : ['Depot', 935442.0, 'Depot', 323232.0, 2686188.0, 1972934.0, 3639929.0, 2752609.0, 4312189.0, 2349221.0, 3143754.0, 1898768.0, 1163945.0, 2119726.0, 1967889.0, 2918628.0, 512980.0, 66954.0, 689448.0, 98750.0, 1331947.0, 884300.0, 3024356.0, 1720666.0, 2977295.0, 619869.0, 'Depot']\n",
      "Total Distance Travelled for part_a_input_dataset_5.csv : 27.150000000000002 kilometers\n",
      "Updated File for part_a_input_dataset_5.csv :\n",
      "    order_id        lng       lat  depot_lat  depot_lng  dlvr_seq_num\n",
      "0    2349221  126.55716  43.81811    43.8121   126.5669           9.0\n",
      "1    1720666  126.54845  43.82043    43.8121   126.5669          23.0\n",
      "2     935442  126.56893  43.81414    43.8121   126.5669           1.0\n",
      "3    2119726  126.57000  43.81954    43.8121   126.5669          13.0\n",
      "4    1898768  126.56574  43.82126    43.8121   126.5669          11.0\n",
      "5    2977295  126.53659  43.80667    43.8121   126.5669          24.0\n",
      "6      98750  126.55001  43.82377    43.8121   126.5669          19.0\n",
      "7    1967889  126.56403  43.82447    43.8121   126.5669          14.0\n",
      "8     512980  126.57915  43.82581    43.8121   126.5669          16.0\n",
      "9    1163945  126.56808  43.82254    43.8121   126.5669          12.0\n",
      "10   4312189  126.55094  43.81513    43.8121   126.5669           8.0\n",
      "11   2918628  126.57607  43.82599    43.8121   126.5669          15.0\n",
      "12   2752609  126.55480  43.80953    43.8121   126.5669           7.0\n",
      "13    689448  126.55272  43.82785    43.8121   126.5669          18.0\n",
      "14    619869  126.59201  43.77702    43.8121   126.5669          25.0\n",
      "15    323232  126.56633  43.80800    43.8121   126.5669           3.0\n",
      "16   3143754  126.55921  43.81791    43.8121   126.5669          10.0\n",
      "17   2686188  126.56021  43.80409    43.8121   126.5669           4.0\n",
      "18     66954  126.59199  43.82113    43.8121   126.5669          17.0\n",
      "19   1331947  126.54723  43.82336    43.8121   126.5669          20.0\n",
      "20   2561510  126.49273  43.76271    43.8121   126.5669           2.0\n",
      "21   3639929  126.55293  43.79402    43.8121   126.5669           6.0\n",
      "22    884300  126.54414  43.82441    43.8121   126.5669          21.0\n",
      "23   1972934  126.56047  43.80009    43.8121   126.5669           5.0\n",
      "24   3024356  126.54393  43.82416    43.8121   126.5669          22.0\n"
     ]
    }
   ],
   "source": [
    "nearest_neighbor_tsp(\"part_a_input_dataset_5.csv\")\n"
   ]
  }
 ],
 "metadata": {
  "kernelspec": {
   "display_name": "Python 3",
   "language": "python",
   "name": "python3"
  },
  "language_info": {
   "codemirror_mode": {
    "name": "ipython",
    "version": 3
   },
   "file_extension": ".py",
   "mimetype": "text/x-python",
   "name": "python",
   "nbconvert_exporter": "python",
   "pygments_lexer": "ipython3",
   "version": "3.10.4"
  }
 },
 "nbformat": 4,
 "nbformat_minor": 2
}
